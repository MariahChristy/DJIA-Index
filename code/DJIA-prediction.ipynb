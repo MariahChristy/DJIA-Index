{
 "cells": [
  {
   "cell_type": "code",
   "execution_count": 1,
   "id": "89c3a709",
   "metadata": {
    "_cell_guid": "b1076dfc-b9ad-4769-8c92-a6c4dae69d19",
    "_uuid": "8f2839f25d086af736a60e9eeb907d3b93b6e0e5",
    "execution": {
     "iopub.execute_input": "2021-08-06T22:07:23.272377Z",
     "iopub.status.busy": "2021-08-06T22:07:23.270704Z",
     "iopub.status.idle": "2021-08-06T22:07:23.300477Z",
     "shell.execute_reply": "2021-08-06T22:07:23.301416Z",
     "shell.execute_reply.started": "2021-08-06T21:50:14.697143Z"
    },
    "papermill": {
     "duration": 0.083938,
     "end_time": "2021-08-06T22:07:23.301814",
     "exception": false,
     "start_time": "2021-08-06T22:07:23.217876",
     "status": "completed"
    },
    "tags": []
   },
   "outputs": [
    {
     "name": "stdout",
     "output_type": "stream",
     "text": [
      "/kaggle/input/stock-prediction-with-news/upload_DJIA_table.csv\n",
      "/kaggle/input/stock-prediction-with-news/huffington.json\n"
     ]
    }
   ],
   "source": [
    "# This Python 3 environment comes with many helpful analytics libraries installed\n",
    "# It is defined by the kaggle/python Docker image: https://github.com/kaggle/docker-python\n",
    "# For example, here's several helpful packages to load\n",
    "\n",
    "import numpy as np # linear algebra\n",
    "import pandas as pd # data processing, CSV file I/O (e.g. pd.read_csv)\n",
    "\n",
    "# Input data files are available in the read-only \"../input/\" directory\n",
    "# For example, running this (by clicking run or pressing Shift+Enter) will list all files under the input directory\n",
    "\n",
    "import os\n",
    "for dirname, _, filenames in os.walk('/kaggle/input'):\n",
    "    for filename in filenames:\n",
    "        print(os.path.join(dirname, filename))\n",
    "\n",
    "# You can write up to 20GB to the current directory (/kaggle/working/) that gets preserved as output when you create a version using \"Save & Run All\" \n",
    "# You can also write temporary files to /kaggle/temp/, but they won't be saved outside of the current session"
   ]
  },
  {
   "cell_type": "code",
   "execution_count": 2,
   "id": "889f6623",
   "metadata": {
    "execution": {
     "iopub.execute_input": "2021-08-06T22:07:23.418471Z",
     "iopub.status.busy": "2021-08-06T22:07:23.417835Z",
     "iopub.status.idle": "2021-08-06T22:07:24.454608Z",
     "shell.execute_reply": "2021-08-06T22:07:24.455097Z",
     "shell.execute_reply.started": "2021-08-06T21:50:14.725759Z"
    },
    "papermill": {
     "duration": 1.088889,
     "end_time": "2021-08-06T22:07:24.455281",
     "exception": false,
     "start_time": "2021-08-06T22:07:23.366392",
     "status": "completed"
    },
    "tags": []
   },
   "outputs": [],
   "source": [
    "import matplotlib.pyplot as plt\n",
    "import seaborn as sns\n",
    "import json\n",
    "import datetime"
   ]
  },
  {
   "cell_type": "code",
   "execution_count": 3,
   "id": "6c5bdcc9",
   "metadata": {
    "execution": {
     "iopub.execute_input": "2021-08-06T22:07:24.547765Z",
     "iopub.status.busy": "2021-08-06T22:07:24.547128Z",
     "iopub.status.idle": "2021-08-06T22:07:24.580437Z",
     "shell.execute_reply": "2021-08-06T22:07:24.580917Z",
     "shell.execute_reply.started": "2021-08-06T21:50:15.663406Z"
    },
    "papermill": {
     "duration": 0.080672,
     "end_time": "2021-08-06T22:07:24.581116",
     "exception": false,
     "start_time": "2021-08-06T22:07:24.500444",
     "status": "completed"
    },
    "tags": []
   },
   "outputs": [],
   "source": [
    "stock_df = pd.read_csv(\"/kaggle/input/stock-prediction-with-news/upload_DJIA_table.csv\", index_col=\"Date\").sort_index()"
   ]
  },
  {
   "cell_type": "code",
   "execution_count": 4,
   "id": "5ea04fb1",
   "metadata": {
    "execution": {
     "iopub.execute_input": "2021-08-06T22:07:24.672329Z",
     "iopub.status.busy": "2021-08-06T22:07:24.671670Z",
     "iopub.status.idle": "2021-08-06T22:07:26.355890Z",
     "shell.execute_reply": "2021-08-06T22:07:26.355191Z",
     "shell.execute_reply.started": "2021-08-06T21:50:15.701494Z"
    },
    "papermill": {
     "duration": 1.730445,
     "end_time": "2021-08-06T22:07:26.356035",
     "exception": false,
     "start_time": "2021-08-06T22:07:24.625590",
     "status": "completed"
    },
    "tags": []
   },
   "outputs": [],
   "source": [
    "news = pd.read_csv(\"/kaggle/input/stock-prediction-with-news/huffington.json\", sep=\"\\t\", header=None)"
   ]
  },
  {
   "cell_type": "code",
   "execution_count": 5,
   "id": "53701920",
   "metadata": {
    "execution": {
     "iopub.execute_input": "2021-08-06T22:07:26.484573Z",
     "iopub.status.busy": "2021-08-06T22:07:26.483129Z",
     "iopub.status.idle": "2021-08-06T22:07:31.169027Z",
     "shell.execute_reply": "2021-08-06T22:07:31.169579Z",
     "shell.execute_reply.started": "2021-08-06T21:50:17.757025Z"
    },
    "papermill": {
     "duration": 4.768559,
     "end_time": "2021-08-06T22:07:31.169755",
     "exception": false,
     "start_time": "2021-08-06T22:07:26.401196",
     "status": "completed"
    },
    "tags": []
   },
   "outputs": [],
   "source": [
    "news_df = pd.DataFrame(columns=[\"category\", \"headline\",\"short_description\",\"date\",\"comb\"])\n",
    "category=[]\n",
    "headline=[]\n",
    "short_description=[]\n",
    "date=[]\n",
    "comb = []\n",
    "\n",
    "for i in range(news.count()[0]):\n",
    "    det = json.loads(news.loc[i,0])\n",
    "    category.append(det[\"category\"])\n",
    "    headline.append(det[\"headline\"])\n",
    "    short_description.append(det[\"short_description\"])\n",
    "    date.append(det[\"date\"])\n",
    "    #date.append(datetime.datetime.strptime(det[\"date\"], \"%Y-%m-%d\").date())\n",
    "    comb.append((\". \").join([det[\"headline\"],det[\"short_description\"]]))\n",
    "    \n",
    "news_df[\"category\"] = category\n",
    "news_df[\"headline\"] = headline\n",
    "news_df[\"short_description\"] = short_description\n",
    "news_df[\"date\"] = date\n",
    "news_df[\"comb\"] = comb\n"
   ]
  },
  {
   "cell_type": "code",
   "execution_count": 6,
   "id": "899b4dab",
   "metadata": {
    "execution": {
     "iopub.execute_input": "2021-08-06T22:07:31.306155Z",
     "iopub.status.busy": "2021-08-06T22:07:31.305483Z",
     "iopub.status.idle": "2021-08-06T22:07:32.318452Z",
     "shell.execute_reply": "2021-08-06T22:07:32.317755Z",
     "shell.execute_reply.started": "2021-08-06T21:50:22.313372Z"
    },
    "papermill": {
     "duration": 1.104188,
     "end_time": "2021-08-06T22:07:32.318593",
     "exception": false,
     "start_time": "2021-08-06T22:07:31.214405",
     "status": "completed"
    },
    "tags": []
   },
   "outputs": [
    {
     "data": {
      "text/html": [
       "<div>\n",
       "<style scoped>\n",
       "    .dataframe tbody tr th:only-of-type {\n",
       "        vertical-align: middle;\n",
       "    }\n",
       "\n",
       "    .dataframe tbody tr th {\n",
       "        vertical-align: top;\n",
       "    }\n",
       "\n",
       "    .dataframe thead th {\n",
       "        text-align: right;\n",
       "    }\n",
       "</style>\n",
       "<table border=\"1\" class=\"dataframe\">\n",
       "  <thead>\n",
       "    <tr style=\"text-align: right;\">\n",
       "      <th></th>\n",
       "      <th>category</th>\n",
       "      <th>headline</th>\n",
       "      <th>short_description</th>\n",
       "      <th>date</th>\n",
       "      <th>comb</th>\n",
       "    </tr>\n",
       "  </thead>\n",
       "  <tbody>\n",
       "    <tr>\n",
       "      <th>count</th>\n",
       "      <td>200853</td>\n",
       "      <td>200853</td>\n",
       "      <td>200853</td>\n",
       "      <td>200853</td>\n",
       "      <td>200853</td>\n",
       "    </tr>\n",
       "    <tr>\n",
       "      <th>unique</th>\n",
       "      <td>41</td>\n",
       "      <td>199344</td>\n",
       "      <td>178353</td>\n",
       "      <td>2309</td>\n",
       "      <td>200365</td>\n",
       "    </tr>\n",
       "    <tr>\n",
       "      <th>top</th>\n",
       "      <td>POLITICS</td>\n",
       "      <td>Sunday Roundup</td>\n",
       "      <td></td>\n",
       "      <td>2014-03-05</td>\n",
       "      <td>Watch The Top 9 YouTube Videos Of The Week. If...</td>\n",
       "    </tr>\n",
       "    <tr>\n",
       "      <th>freq</th>\n",
       "      <td>32739</td>\n",
       "      <td>90</td>\n",
       "      <td>19712</td>\n",
       "      <td>100</td>\n",
       "      <td>46</td>\n",
       "    </tr>\n",
       "  </tbody>\n",
       "</table>\n",
       "</div>"
      ],
      "text/plain": [
       "        category        headline short_description        date  \\\n",
       "count     200853          200853            200853      200853   \n",
       "unique        41          199344            178353        2309   \n",
       "top     POLITICS  Sunday Roundup                    2014-03-05   \n",
       "freq       32739              90             19712         100   \n",
       "\n",
       "                                                     comb  \n",
       "count                                              200853  \n",
       "unique                                             200365  \n",
       "top     Watch The Top 9 YouTube Videos Of The Week. If...  \n",
       "freq                                                   46  "
      ]
     },
     "execution_count": 6,
     "metadata": {},
     "output_type": "execute_result"
    }
   ],
   "source": [
    "news_df.describe(include=\"all\")"
   ]
  },
  {
   "cell_type": "code",
   "execution_count": 7,
   "id": "23d12180",
   "metadata": {
    "execution": {
     "iopub.execute_input": "2021-08-06T22:07:32.428035Z",
     "iopub.status.busy": "2021-08-06T22:07:32.427382Z",
     "iopub.status.idle": "2021-08-06T22:07:33.441617Z",
     "shell.execute_reply": "2021-08-06T22:07:33.441049Z",
     "shell.execute_reply.started": "2021-08-06T21:50:23.452338Z"
    },
    "papermill": {
     "duration": 1.078812,
     "end_time": "2021-08-06T22:07:33.441754",
     "exception": false,
     "start_time": "2021-08-06T22:07:32.362942",
     "status": "completed"
    },
    "tags": []
   },
   "outputs": [
    {
     "name": "stderr",
     "output_type": "stream",
     "text": [
      "/opt/conda/lib/python3.7/site-packages/seaborn/_decorators.py:43: FutureWarning: Pass the following variable as a keyword arg: x. From version 0.12, the only valid positional argument will be `data`, and passing other arguments without an explicit keyword will result in an error or misinterpretation.\n",
      "  FutureWarning\n"
     ]
    },
    {
     "data": {
      "text/plain": [
       "<AxesSubplot:xlabel='category', ylabel='count'>"
      ]
     },
     "execution_count": 7,
     "metadata": {},
     "output_type": "execute_result"
    },
    {
     "data": {
      "image/png": "[encoded data removed]",
      "text/plain": [
       "<Figure size 576x288 with 1 Axes>"
      ]
     },
     "metadata": {
      "needs_background": "light"
     },
     "output_type": "display_data"
    }
   ],
   "source": [
    "plt.figure(figsize=(8,4))\n",
    "plt.xticks(rotation=90)\n",
    "sns.countplot(news_df[\"category\"])"
   ]
  },
  {
   "cell_type": "code",
   "execution_count": 8,
   "id": "c2fcbf7c",
   "metadata": {
    "execution": {
     "iopub.execute_input": "2021-08-06T22:07:33.590631Z",
     "iopub.status.busy": "2021-08-06T22:07:33.555735Z",
     "iopub.status.idle": "2021-08-06T22:07:33.652892Z",
     "shell.execute_reply": "2021-08-06T22:07:33.652310Z",
     "shell.execute_reply.started": "2021-08-06T21:50:24.463321Z"
    },
    "papermill": {
     "duration": 0.164941,
     "end_time": "2021-08-06T22:07:33.653031",
     "exception": false,
     "start_time": "2021-08-06T22:07:33.488090",
     "status": "completed"
    },
    "tags": []
   },
   "outputs": [],
   "source": [
    "req_categories = [\"POLITICS\",\"BUSINESS\",\"IMPACT\"]\n",
    "news_df_rc = news_df[news_df.loc[:,\"category\"].isin(req_categories) &\n",
    "                     (news_df[\"date\"] > \"2014-05-05\")\n",
    "                    & (news_df.headline != \"\")].reset_index()\n",
    "news_df_rc = news_df_rc.drop([\"index\"], axis=1)"
   ]
  },
  {
   "cell_type": "code",
   "execution_count": 9,
   "id": "7ed26a16",
   "metadata": {
    "execution": {
     "iopub.execute_input": "2021-08-06T22:07:33.769316Z",
     "iopub.status.busy": "2021-08-06T22:07:33.768362Z",
     "iopub.status.idle": "2021-08-06T22:07:33.926833Z",
     "shell.execute_reply": "2021-08-06T22:07:33.927306Z",
     "shell.execute_reply.started": "2021-08-06T21:50:24.579742Z"
    },
    "papermill": {
     "duration": 0.228616,
     "end_time": "2021-08-06T22:07:33.927484",
     "exception": false,
     "start_time": "2021-08-06T22:07:33.698868",
     "status": "completed"
    },
    "tags": []
   },
   "outputs": [
    {
     "data": {
      "text/html": [
       "<div>\n",
       "<style scoped>\n",
       "    .dataframe tbody tr th:only-of-type {\n",
       "        vertical-align: middle;\n",
       "    }\n",
       "\n",
       "    .dataframe tbody tr th {\n",
       "        vertical-align: top;\n",
       "    }\n",
       "\n",
       "    .dataframe thead th {\n",
       "        text-align: right;\n",
       "    }\n",
       "</style>\n",
       "<table border=\"1\" class=\"dataframe\">\n",
       "  <thead>\n",
       "    <tr style=\"text-align: right;\">\n",
       "      <th></th>\n",
       "      <th>category</th>\n",
       "      <th>headline</th>\n",
       "      <th>short_description</th>\n",
       "      <th>date</th>\n",
       "      <th>comb</th>\n",
       "    </tr>\n",
       "  </thead>\n",
       "  <tbody>\n",
       "    <tr>\n",
       "      <th>count</th>\n",
       "      <td>39235</td>\n",
       "      <td>39235</td>\n",
       "      <td>39235</td>\n",
       "      <td>39235</td>\n",
       "      <td>39235</td>\n",
       "    </tr>\n",
       "    <tr>\n",
       "      <th>unique</th>\n",
       "      <td>3</td>\n",
       "      <td>39107</td>\n",
       "      <td>34592</td>\n",
       "      <td>1480</td>\n",
       "      <td>39217</td>\n",
       "    </tr>\n",
       "    <tr>\n",
       "      <th>top</th>\n",
       "      <td>POLITICS</td>\n",
       "      <td>Sunday Roundup</td>\n",
       "      <td></td>\n",
       "      <td>2014-11-05</td>\n",
       "      <td>The Conundrum of the Midterms. The truth is, t...</td>\n",
       "    </tr>\n",
       "    <tr>\n",
       "      <th>freq</th>\n",
       "      <td>32542</td>\n",
       "      <td>87</td>\n",
       "      <td>4242</td>\n",
       "      <td>97</td>\n",
       "      <td>2</td>\n",
       "    </tr>\n",
       "  </tbody>\n",
       "</table>\n",
       "</div>"
      ],
      "text/plain": [
       "        category        headline short_description        date  \\\n",
       "count      39235           39235             39235       39235   \n",
       "unique         3           39107             34592        1480   \n",
       "top     POLITICS  Sunday Roundup                    2014-11-05   \n",
       "freq       32542              87              4242          97   \n",
       "\n",
       "                                                     comb  \n",
       "count                                               39235  \n",
       "unique                                              39217  \n",
       "top     The Conundrum of the Midterms. The truth is, t...  \n",
       "freq                                                    2  "
      ]
     },
     "execution_count": 9,
     "metadata": {},
     "output_type": "execute_result"
    }
   ],
   "source": [
    "news_df_rc.describe(include=\"all\")"
   ]
  },
  {
   "cell_type": "code",
   "execution_count": 10,
   "id": "6f49b701",
   "metadata": {
    "execution": {
     "iopub.execute_input": "2021-08-06T22:07:34.024814Z",
     "iopub.status.busy": "2021-08-06T22:07:34.024214Z",
     "iopub.status.idle": "2021-08-06T22:07:34.026050Z",
     "shell.execute_reply": "2021-08-06T22:07:34.026514Z",
     "shell.execute_reply.started": "2021-08-06T21:50:24.741178Z"
    },
    "papermill": {
     "duration": 0.052472,
     "end_time": "2021-08-06T22:07:34.026672",
     "exception": false,
     "start_time": "2021-08-06T22:07:33.974200",
     "status": "completed"
    },
    "tags": []
   },
   "outputs": [],
   "source": [
    "#ob = news_df_rc[\"date\"].value_counts().reset_index()\n",
    "#plt.figure(figsize=(8,4))\n",
    "#plt.plot_date(x=\"index\", y=\"date\", data=ob)"
   ]
  },
  {
   "cell_type": "code",
   "execution_count": 11,
   "id": "045c60ac",
   "metadata": {
    "execution": {
     "iopub.execute_input": "2021-08-06T22:07:34.123416Z",
     "iopub.status.busy": "2021-08-06T22:07:34.122814Z",
     "iopub.status.idle": "2021-08-06T22:07:37.494888Z",
     "shell.execute_reply": "2021-08-06T22:07:37.495395Z",
     "shell.execute_reply.started": "2021-08-06T21:50:24.746566Z"
    },
    "papermill": {
     "duration": 3.421883,
     "end_time": "2021-08-06T22:07:37.495582",
     "exception": false,
     "start_time": "2021-08-06T22:07:34.073699",
     "status": "completed"
    },
    "tags": []
   },
   "outputs": [],
   "source": [
    "duplicated = [i for i, dup in news_df_rc[\"headline\"].duplicated(keep=False).reset_index().iterrows() if dup.headline is True]"
   ]
  },
  {
   "cell_type": "code",
   "execution_count": 12,
   "id": "88702823",
   "metadata": {
    "execution": {
     "iopub.execute_input": "2021-08-06T22:07:37.594720Z",
     "iopub.status.busy": "2021-08-06T22:07:37.594049Z",
     "iopub.status.idle": "2021-08-06T22:07:37.620770Z",
     "shell.execute_reply": "2021-08-06T22:07:37.620150Z",
     "shell.execute_reply.started": "2021-08-06T21:50:28.055830Z"
    },
    "papermill": {
     "duration": 0.076251,
     "end_time": "2021-08-06T22:07:37.620910",
     "exception": false,
     "start_time": "2021-08-06T22:07:37.544659",
     "status": "completed"
    },
    "tags": []
   },
   "outputs": [
    {
     "data": {
      "text/html": [
       "<div>\n",
       "<style scoped>\n",
       "    .dataframe tbody tr th:only-of-type {\n",
       "        vertical-align: middle;\n",
       "    }\n",
       "\n",
       "    .dataframe tbody tr th {\n",
       "        vertical-align: top;\n",
       "    }\n",
       "\n",
       "    .dataframe thead th {\n",
       "        text-align: right;\n",
       "    }\n",
       "</style>\n",
       "<table border=\"1\" class=\"dataframe\">\n",
       "  <thead>\n",
       "    <tr style=\"text-align: right;\">\n",
       "      <th></th>\n",
       "      <th>date</th>\n",
       "      <th>headline</th>\n",
       "      <th>short_description</th>\n",
       "    </tr>\n",
       "  </thead>\n",
       "  <tbody>\n",
       "    <tr>\n",
       "      <th>33801</th>\n",
       "      <td>2015-01-17</td>\n",
       "      <td>10 Most Hated Companies In America</td>\n",
       "      <td>To be truly hated, a company must alienate a l...</td>\n",
       "    </tr>\n",
       "    <tr>\n",
       "      <th>33802</th>\n",
       "      <td>2015-01-17</td>\n",
       "      <td>10 Most Hated Companies In America</td>\n",
       "      <td>To be truly hated, a company must alienate a l...</td>\n",
       "    </tr>\n",
       "    <tr>\n",
       "      <th>18962</th>\n",
       "      <td>2016-08-14</td>\n",
       "      <td>8 Ways To Get People To Take You More Seriously</td>\n",
       "      <td>If you really want to be taken more seriously ...</td>\n",
       "    </tr>\n",
       "    <tr>\n",
       "      <th>16603</th>\n",
       "      <td>2016-10-29</td>\n",
       "      <td>8 Ways To Get People To Take You More Seriously</td>\n",
       "      <td></td>\n",
       "    </tr>\n",
       "    <tr>\n",
       "      <th>3958</th>\n",
       "      <td>2017-12-04</td>\n",
       "      <td>Abortion Isn’t Main Reason More Republicans St...</td>\n",
       "      <td>Would the Democrats’ Alabama Senate candidate ...</td>\n",
       "    </tr>\n",
       "    <tr>\n",
       "      <th>...</th>\n",
       "      <td>...</td>\n",
       "      <td>...</td>\n",
       "      <td>...</td>\n",
       "    </tr>\n",
       "    <tr>\n",
       "      <th>543</th>\n",
       "      <td>2018-04-30</td>\n",
       "      <td>What A Year This Month Has Been</td>\n",
       "      <td>There was a lot of news in April 2018. See wha...</td>\n",
       "    </tr>\n",
       "    <tr>\n",
       "      <th>10714</th>\n",
       "      <td>2017-04-26</td>\n",
       "      <td>What Bullets Do To Bodies</td>\n",
       "      <td>The first thing Dr. Amy Goldberg told me is th...</td>\n",
       "    </tr>\n",
       "    <tr>\n",
       "      <th>10725</th>\n",
       "      <td>2017-04-26</td>\n",
       "      <td>What Bullets Do To Bodies</td>\n",
       "      <td>The first thing Dr. Amy Goldberg told me is th...</td>\n",
       "    </tr>\n",
       "    <tr>\n",
       "      <th>18626</th>\n",
       "      <td>2016-08-28</td>\n",
       "      <td>Why I March: From 1963 To Today</td>\n",
       "      <td>We knew on that bridge in Selma that we were s...</td>\n",
       "    </tr>\n",
       "    <tr>\n",
       "      <th>18627</th>\n",
       "      <td>2016-08-28</td>\n",
       "      <td>Why I March: From 1963 To Today</td>\n",
       "      <td>We knew on that bridge in Selma that we were s...</td>\n",
       "    </tr>\n",
       "  </tbody>\n",
       "</table>\n",
       "<p>170 rows × 3 columns</p>\n",
       "</div>"
      ],
      "text/plain": [
       "             date                                           headline  \\\n",
       "33801  2015-01-17                 10 Most Hated Companies In America   \n",
       "33802  2015-01-17                 10 Most Hated Companies In America   \n",
       "18962  2016-08-14    8 Ways To Get People To Take You More Seriously   \n",
       "16603  2016-10-29    8 Ways To Get People To Take You More Seriously   \n",
       "3958   2017-12-04  Abortion Isn’t Main Reason More Republicans St...   \n",
       "...           ...                                                ...   \n",
       "543    2018-04-30                    What A Year This Month Has Been   \n",
       "10714  2017-04-26                          What Bullets Do To Bodies   \n",
       "10725  2017-04-26                          What Bullets Do To Bodies   \n",
       "18626  2016-08-28                    Why I March: From 1963 To Today   \n",
       "18627  2016-08-28                    Why I March: From 1963 To Today   \n",
       "\n",
       "                                       short_description  \n",
       "33801  To be truly hated, a company must alienate a l...  \n",
       "33802  To be truly hated, a company must alienate a l...  \n",
       "18962  If you really want to be taken more seriously ...  \n",
       "16603                                                     \n",
       "3958   Would the Democrats’ Alabama Senate candidate ...  \n",
       "...                                                  ...  \n",
       "543    There was a lot of news in April 2018. See wha...  \n",
       "10714  The first thing Dr. Amy Goldberg told me is th...  \n",
       "10725  The first thing Dr. Amy Goldberg told me is th...  \n",
       "18626  We knew on that bridge in Selma that we were s...  \n",
       "18627  We knew on that bridge in Selma that we were s...  \n",
       "\n",
       "[170 rows x 3 columns]"
      ]
     },
     "execution_count": 12,
     "metadata": {},
     "output_type": "execute_result"
    }
   ],
   "source": [
    "news_df_rc.loc[duplicated,[\"date\",\"headline\",\"short_description\"]].sort_values(by=['headline', \"date\"])"
   ]
  },
  {
   "cell_type": "code",
   "execution_count": 13,
   "id": "fb69f78a",
   "metadata": {
    "execution": {
     "iopub.execute_input": "2021-08-06T22:07:37.729630Z",
     "iopub.status.busy": "2021-08-06T22:07:37.728660Z",
     "iopub.status.idle": "2021-08-06T22:07:37.778039Z",
     "shell.execute_reply": "2021-08-06T22:07:37.777383Z",
     "shell.execute_reply.started": "2021-08-06T21:50:28.084324Z"
    },
    "papermill": {
     "duration": 0.10958,
     "end_time": "2021-08-06T22:07:37.778193",
     "exception": false,
     "start_time": "2021-08-06T22:07:37.668613",
     "status": "completed"
    },
    "tags": []
   },
   "outputs": [],
   "source": [
    "news_df_opt = news_df_rc.drop_duplicates(subset=[\"date\",\"headline\"],keep='first').reset_index()\n",
    "news_df_opt = news_df_opt.drop([\"index\"], axis =1)"
   ]
  },
  {
   "cell_type": "code",
   "execution_count": 14,
   "id": "7400980d",
   "metadata": {
    "execution": {
     "iopub.execute_input": "2021-08-06T22:07:37.880864Z",
     "iopub.status.busy": "2021-08-06T22:07:37.880248Z",
     "iopub.status.idle": "2021-08-06T22:07:37.882198Z",
     "shell.execute_reply": "2021-08-06T22:07:37.882681Z",
     "shell.execute_reply.started": "2021-08-06T21:50:28.139110Z"
    },
    "papermill": {
     "duration": 0.056688,
     "end_time": "2021-08-06T22:07:37.882847",
     "exception": false,
     "start_time": "2021-08-06T22:07:37.826159",
     "status": "completed"
    },
    "tags": []
   },
   "outputs": [],
   "source": [
    "org = pd.Series([\"3M\", 'American Express', 'Amgen', 'Apple', 'Boeing', \n",
    "           'Caterpillar', 'Chevron', 'Cisco', 'Coca Cola', 'Disney', 'Dow', 'Goldman Sachs', \n",
    "       'Home Depot', 'Honeywell', 'IBM', 'Intel', 'J&J', 'JP Morgan', 'McDonald', \n",
    "       'Merck', 'Microsoft', 'Nike','UnitedHealth', 'Visa', 'Walmart',\"ExxonMobil\", \"Pfizer\",\"Raytheon\"])\n",
    "## add CEOs\n",
    "\n",
    "org = list(org.str.lower())"
   ]
  },
  {
   "cell_type": "code",
   "execution_count": 15,
   "id": "400390a2",
   "metadata": {
    "execution": {
     "iopub.execute_input": "2021-08-06T22:07:37.981442Z",
     "iopub.status.busy": "2021-08-06T22:07:37.980826Z",
     "iopub.status.idle": "2021-08-06T22:07:38.873939Z",
     "shell.execute_reply": "2021-08-06T22:07:38.873410Z",
     "shell.execute_reply.started": "2021-08-06T21:50:28.147337Z"
    },
    "papermill": {
     "duration": 0.943407,
     "end_time": "2021-08-06T22:07:38.874104",
     "exception": false,
     "start_time": "2021-08-06T22:07:37.930697",
     "status": "completed"
    },
    "tags": []
   },
   "outputs": [],
   "source": [
    "from nltk.corpus import words\n",
    "from nltk import WordNetLemmatizer\n",
    "from datetime import datetime\n",
    "import re\n",
    "lemmatizer = WordNetLemmatizer()"
   ]
  },
  {
   "cell_type": "code",
   "execution_count": 16,
   "id": "11353172",
   "metadata": {
    "execution": {
     "iopub.execute_input": "2021-08-06T22:07:38.973479Z",
     "iopub.status.busy": "2021-08-06T22:07:38.972755Z",
     "iopub.status.idle": "2021-08-06T22:07:38.975758Z",
     "shell.execute_reply": "2021-08-06T22:07:38.976263Z",
     "shell.execute_reply.started": "2021-08-06T21:50:29.005405Z"
    },
    "papermill": {
     "duration": 0.054857,
     "end_time": "2021-08-06T22:07:38.976426",
     "exception": false,
     "start_time": "2021-08-06T22:07:38.921569",
     "status": "completed"
    },
    "tags": []
   },
   "outputs": [],
   "source": [
    "news_df_opt[\"label\"] = 1"
   ]
  },
  {
   "cell_type": "code",
   "execution_count": 17,
   "id": "c4a9d577",
   "metadata": {
    "execution": {
     "iopub.execute_input": "2021-08-06T22:07:39.073975Z",
     "iopub.status.busy": "2021-08-06T22:07:39.073355Z",
     "iopub.status.idle": "2021-08-06T22:07:59.282622Z",
     "shell.execute_reply": "2021-08-06T22:07:59.282040Z",
     "shell.execute_reply.started": "2021-08-06T21:50:29.013942Z"
    },
    "papermill": {
     "duration": 20.258956,
     "end_time": "2021-08-06T22:07:59.282774",
     "exception": false,
     "start_time": "2021-08-06T22:07:39.023818",
     "status": "completed"
    },
    "tags": []
   },
   "outputs": [
    {
     "name": "stderr",
     "output_type": "stream",
     "text": [
      "/opt/conda/lib/python3.7/site-packages/ipykernel_launcher.py:8: SettingWithCopyWarning: \n",
      "A value is trying to be set on a copy of a slice from a DataFrame\n",
      "\n",
      "See the caveats in the documentation: https://pandas.pydata.org/pandas-docs/stable/user_guide/indexing.html#returning-a-view-versus-a-copy\n",
      "  \n"
     ]
    }
   ],
   "source": [
    "for i, row in news_df_opt.iterrows():\n",
    "    #check punctuations\n",
    "    sent  = re.sub(r'[.]*|[,]*|:|[\\n]*|nan|\\?|\"|[\\*]*|[\\t]*|[\\r]*|&|#|!|<|>|%|[\\^]*|[-]*', '', row['comb'])\n",
    "    # remove numbers\n",
    "    sent = re.sub(r'\\d', '', sent)\n",
    "    for word in sent.lower().split(' '):\n",
    "        if lemmatizer.lemmatize(word) in org:\n",
    "            news_df_opt[\"label\"][i] = 2"
   ]
  },
  {
   "cell_type": "code",
   "execution_count": 18,
   "id": "7fe407cd",
   "metadata": {
    "execution": {
     "iopub.execute_input": "2021-08-06T22:07:59.397569Z",
     "iopub.status.busy": "2021-08-06T22:07:59.396530Z",
     "iopub.status.idle": "2021-08-06T22:07:59.401236Z",
     "shell.execute_reply": "2021-08-06T22:07:59.400733Z",
     "shell.execute_reply.started": "2021-08-06T21:50:48.222676Z"
    },
    "papermill": {
     "duration": 0.070689,
     "end_time": "2021-08-06T22:07:59.401377",
     "exception": false,
     "start_time": "2021-08-06T22:07:59.330688",
     "status": "completed"
    },
    "tags": []
   },
   "outputs": [
    {
     "data": {
      "text/html": [
       "<div>\n",
       "<style scoped>\n",
       "    .dataframe tbody tr th:only-of-type {\n",
       "        vertical-align: middle;\n",
       "    }\n",
       "\n",
       "    .dataframe tbody tr th {\n",
       "        vertical-align: top;\n",
       "    }\n",
       "\n",
       "    .dataframe thead th {\n",
       "        text-align: right;\n",
       "    }\n",
       "</style>\n",
       "<table border=\"1\" class=\"dataframe\">\n",
       "  <thead>\n",
       "    <tr style=\"text-align: right;\">\n",
       "      <th></th>\n",
       "      <th>category</th>\n",
       "      <th>headline</th>\n",
       "      <th>short_description</th>\n",
       "      <th>date</th>\n",
       "      <th>comb</th>\n",
       "      <th>label</th>\n",
       "    </tr>\n",
       "  </thead>\n",
       "  <tbody>\n",
       "    <tr>\n",
       "      <th>74</th>\n",
       "      <td>POLITICS</td>\n",
       "      <td>DHS Head Says She’s Still, Somehow, Unaware Of...</td>\n",
       "      <td>A publicly available 2017 assessment from the ...</td>\n",
       "      <td>2018-05-22</td>\n",
       "      <td>DHS Head Says She’s Still, Somehow, Unaware Of...</td>\n",
       "      <td>2</td>\n",
       "    </tr>\n",
       "    <tr>\n",
       "      <th>992</th>\n",
       "      <td>BUSINESS</td>\n",
       "      <td>Apple Co-Founder Steve Wozniak Ditches Faceboo...</td>\n",
       "      <td>\"It's brought me more negatives than positives.\"</td>\n",
       "      <td>2018-04-09</td>\n",
       "      <td>Apple Co-Founder Steve Wozniak Ditches Faceboo...</td>\n",
       "      <td>2</td>\n",
       "    </tr>\n",
       "    <tr>\n",
       "      <th>1205</th>\n",
       "      <td>POLITICS</td>\n",
       "      <td>White House Hires Former Disney Channel Star A...</td>\n",
       "      <td>Caroline Sunshine starred on the show \"Shake I...</td>\n",
       "      <td>2018-03-28</td>\n",
       "      <td>White House Hires Former Disney Channel Star A...</td>\n",
       "      <td>2</td>\n",
       "    </tr>\n",
       "    <tr>\n",
       "      <th>1216</th>\n",
       "      <td>BUSINESS</td>\n",
       "      <td>Walmart Partners With Conservative Group To Re...</td>\n",
       "      <td>“The real world took another step toward its s...</td>\n",
       "      <td>2018-03-28</td>\n",
       "      <td>Walmart Partners With Conservative Group To Re...</td>\n",
       "      <td>2</td>\n",
       "    </tr>\n",
       "    <tr>\n",
       "      <th>1372</th>\n",
       "      <td>BUSINESS</td>\n",
       "      <td>Dow Plunges Amid Wall Street Fears About Trade...</td>\n",
       "      <td>The drop comes on the heels of an action by Pr...</td>\n",
       "      <td>2018-03-22</td>\n",
       "      <td>Dow Plunges Amid Wall Street Fears About Trade...</td>\n",
       "      <td>2</td>\n",
       "    </tr>\n",
       "    <tr>\n",
       "      <th>...</th>\n",
       "      <td>...</td>\n",
       "      <td>...</td>\n",
       "      <td>...</td>\n",
       "      <td>...</td>\n",
       "      <td>...</td>\n",
       "      <td>...</td>\n",
       "    </tr>\n",
       "    <tr>\n",
       "      <th>38783</th>\n",
       "      <td>BUSINESS</td>\n",
       "      <td>Why You Never See Ronald McDonald Eating McDon...</td>\n",
       "      <td></td>\n",
       "      <td>2014-05-28</td>\n",
       "      <td>Why You Never See Ronald McDonald Eating McDon...</td>\n",
       "      <td>2</td>\n",
       "    </tr>\n",
       "    <tr>\n",
       "      <th>38842</th>\n",
       "      <td>BUSINESS</td>\n",
       "      <td>Pfizer Is Abandoning Controversial Plan</td>\n",
       "      <td></td>\n",
       "      <td>2014-05-26</td>\n",
       "      <td>Pfizer Is Abandoning Controversial Plan.</td>\n",
       "      <td>2</td>\n",
       "    </tr>\n",
       "    <tr>\n",
       "      <th>38900</th>\n",
       "      <td>BUSINESS</td>\n",
       "      <td>Going Nowhere Fast at McDonald's</td>\n",
       "      <td>Forget the salad wraps or apple slices -- McDo...</td>\n",
       "      <td>2014-05-23</td>\n",
       "      <td>Going Nowhere Fast at McDonald's. Forget the s...</td>\n",
       "      <td>2</td>\n",
       "    </tr>\n",
       "    <tr>\n",
       "      <th>38945</th>\n",
       "      <td>BUSINESS</td>\n",
       "      <td>America's Tech Firms Must Not Aid Chinese Repr...</td>\n",
       "      <td>My late great father, California Congressman T...</td>\n",
       "      <td>2014-05-21</td>\n",
       "      <td>America's Tech Firms Must Not Aid Chinese Repr...</td>\n",
       "      <td>2</td>\n",
       "    </tr>\n",
       "    <tr>\n",
       "      <th>38978</th>\n",
       "      <td>IMPACT</td>\n",
       "      <td>Disney Could Learn A Thing Or Two From This 'A...</td>\n",
       "      <td></td>\n",
       "      <td>2014-05-19</td>\n",
       "      <td>Disney Could Learn A Thing Or Two From This 'A...</td>\n",
       "      <td>2</td>\n",
       "    </tr>\n",
       "  </tbody>\n",
       "</table>\n",
       "<p>291 rows × 6 columns</p>\n",
       "</div>"
      ],
      "text/plain": [
       "       category                                           headline  \\\n",
       "74     POLITICS  DHS Head Says She’s Still, Somehow, Unaware Of...   \n",
       "992    BUSINESS  Apple Co-Founder Steve Wozniak Ditches Faceboo...   \n",
       "1205   POLITICS  White House Hires Former Disney Channel Star A...   \n",
       "1216   BUSINESS  Walmart Partners With Conservative Group To Re...   \n",
       "1372   BUSINESS  Dow Plunges Amid Wall Street Fears About Trade...   \n",
       "...         ...                                                ...   \n",
       "38783  BUSINESS  Why You Never See Ronald McDonald Eating McDon...   \n",
       "38842  BUSINESS            Pfizer Is Abandoning Controversial Plan   \n",
       "38900  BUSINESS                   Going Nowhere Fast at McDonald's   \n",
       "38945  BUSINESS  America's Tech Firms Must Not Aid Chinese Repr...   \n",
       "38978    IMPACT  Disney Could Learn A Thing Or Two From This 'A...   \n",
       "\n",
       "                                       short_description        date  \\\n",
       "74     A publicly available 2017 assessment from the ...  2018-05-22   \n",
       "992     \"It's brought me more negatives than positives.\"  2018-04-09   \n",
       "1205   Caroline Sunshine starred on the show \"Shake I...  2018-03-28   \n",
       "1216   “The real world took another step toward its s...  2018-03-28   \n",
       "1372   The drop comes on the heels of an action by Pr...  2018-03-22   \n",
       "...                                                  ...         ...   \n",
       "38783                                                     2014-05-28   \n",
       "38842                                                     2014-05-26   \n",
       "38900  Forget the salad wraps or apple slices -- McDo...  2014-05-23   \n",
       "38945  My late great father, California Congressman T...  2014-05-21   \n",
       "38978                                                     2014-05-19   \n",
       "\n",
       "                                                    comb  label  \n",
       "74     DHS Head Says She’s Still, Somehow, Unaware Of...      2  \n",
       "992    Apple Co-Founder Steve Wozniak Ditches Faceboo...      2  \n",
       "1205   White House Hires Former Disney Channel Star A...      2  \n",
       "1216   Walmart Partners With Conservative Group To Re...      2  \n",
       "1372   Dow Plunges Amid Wall Street Fears About Trade...      2  \n",
       "...                                                  ...    ...  \n",
       "38783  Why You Never See Ronald McDonald Eating McDon...      2  \n",
       "38842          Pfizer Is Abandoning Controversial Plan.       2  \n",
       "38900  Going Nowhere Fast at McDonald's. Forget the s...      2  \n",
       "38945  America's Tech Firms Must Not Aid Chinese Repr...      2  \n",
       "38978  Disney Could Learn A Thing Or Two From This 'A...      2  \n",
       "\n",
       "[291 rows x 6 columns]"
      ]
     },
     "execution_count": 18,
     "metadata": {},
     "output_type": "execute_result"
    }
   ],
   "source": [
    "news_df_opt[news_df_opt[\"label\"]==2]"
   ]
  },
  {
   "cell_type": "code",
   "execution_count": 19,
   "id": "4b7fe88b",
   "metadata": {
    "execution": {
     "iopub.execute_input": "2021-08-06T22:07:59.510176Z",
     "iopub.status.busy": "2021-08-06T22:07:59.503339Z",
     "iopub.status.idle": "2021-08-06T22:07:59.653411Z",
     "shell.execute_reply": "2021-08-06T22:07:59.652795Z",
     "shell.execute_reply.started": "2021-08-06T21:50:48.245190Z"
    },
    "papermill": {
     "duration": 0.20404,
     "end_time": "2021-08-06T22:07:59.653541",
     "exception": false,
     "start_time": "2021-08-06T22:07:59.449501",
     "status": "completed"
    },
    "tags": []
   },
   "outputs": [
    {
     "name": "stdout",
     "output_type": "stream",
     "text": [
      "[nltk_data] Downloading package vader_lexicon to\n",
      "[nltk_data]     /usr/share/nltk_data...\n",
      "[nltk_data]   Package vader_lexicon is already up-to-date!\n"
     ]
    },
    {
     "name": "stderr",
     "output_type": "stream",
     "text": [
      "/opt/conda/lib/python3.7/site-packages/nltk/twitter/__init__.py:20: UserWarning: The twython library has not been installed. Some functionality from the twitter package will not be available.\n",
      "  warnings.warn(\"The twython library has not been installed. \"\n"
     ]
    }
   ],
   "source": [
    "import nltk\n",
    "nltk.download('vader_lexicon')\n",
    "from nltk.sentiment.vader import SentimentIntensityAnalyzer\n",
    "sid = SentimentIntensityAnalyzer()"
   ]
  },
  {
   "cell_type": "code",
   "execution_count": 20,
   "id": "2ad03ee1",
   "metadata": {
    "execution": {
     "iopub.execute_input": "2021-08-06T22:07:59.793134Z",
     "iopub.status.busy": "2021-08-06T22:07:59.777470Z",
     "iopub.status.idle": "2021-08-06T22:08:16.502705Z",
     "shell.execute_reply": "2021-08-06T22:08:16.502095Z",
     "shell.execute_reply.started": "2021-08-06T21:50:48.409864Z"
    },
    "papermill": {
     "duration": 16.800679,
     "end_time": "2021-08-06T22:08:16.502843",
     "exception": false,
     "start_time": "2021-08-06T22:07:59.702164",
     "status": "completed"
    },
    "tags": []
   },
   "outputs": [],
   "source": [
    "news_df_opt['polarity'] = news_df_opt['comb'].map(lambda x: sid.polarity_scores(x))\n",
    "news_df_opt['score'] = news_df_opt['polarity'].map(lambda x: x[\"compound\"])"
   ]
  },
  {
   "cell_type": "code",
   "execution_count": 21,
   "id": "d6456c0b",
   "metadata": {
    "execution": {
     "iopub.execute_input": "2021-08-06T22:08:16.610198Z",
     "iopub.status.busy": "2021-08-06T22:08:16.609523Z",
     "iopub.status.idle": "2021-08-06T22:08:16.613799Z",
     "shell.execute_reply": "2021-08-06T22:08:16.614308Z",
     "shell.execute_reply.started": "2021-08-06T21:51:04.594983Z"
    },
    "papermill": {
     "duration": 0.060677,
     "end_time": "2021-08-06T22:08:16.614487",
     "exception": false,
     "start_time": "2021-08-06T22:08:16.553810",
     "status": "completed"
    },
    "tags": []
   },
   "outputs": [],
   "source": [
    "news_df_opt[\"final_score\"] = news_df_opt[\"label\"]*news_df_opt[\"score\"]"
   ]
  },
  {
   "cell_type": "code",
   "execution_count": 22,
   "id": "7bb892f8",
   "metadata": {
    "execution": {
     "iopub.execute_input": "2021-08-06T22:08:16.731436Z",
     "iopub.status.busy": "2021-08-06T22:08:16.718726Z",
     "iopub.status.idle": "2021-08-06T22:08:16.735942Z",
     "shell.execute_reply": "2021-08-06T22:08:16.735332Z",
     "shell.execute_reply.started": "2021-08-06T21:51:04.603915Z"
    },
    "papermill": {
     "duration": 0.070732,
     "end_time": "2021-08-06T22:08:16.736089",
     "exception": false,
     "start_time": "2021-08-06T22:08:16.665357",
     "status": "completed"
    },
    "tags": []
   },
   "outputs": [
    {
     "data": {
      "text/html": [
       "<div>\n",
       "<style scoped>\n",
       "    .dataframe tbody tr th:only-of-type {\n",
       "        vertical-align: middle;\n",
       "    }\n",
       "\n",
       "    .dataframe tbody tr th {\n",
       "        vertical-align: top;\n",
       "    }\n",
       "\n",
       "    .dataframe thead th {\n",
       "        text-align: right;\n",
       "    }\n",
       "</style>\n",
       "<table border=\"1\" class=\"dataframe\">\n",
       "  <thead>\n",
       "    <tr style=\"text-align: right;\">\n",
       "      <th></th>\n",
       "      <th>category</th>\n",
       "      <th>headline</th>\n",
       "      <th>short_description</th>\n",
       "      <th>date</th>\n",
       "      <th>comb</th>\n",
       "      <th>label</th>\n",
       "      <th>polarity</th>\n",
       "      <th>score</th>\n",
       "      <th>final_score</th>\n",
       "    </tr>\n",
       "  </thead>\n",
       "  <tbody>\n",
       "    <tr>\n",
       "      <th>0</th>\n",
       "      <td>IMPACT</td>\n",
       "      <td>With Its Way Of Life At Risk, This Remote Oyst...</td>\n",
       "      <td>The revolution is coming to rural New Brunswick.</td>\n",
       "      <td>2018-05-26</td>\n",
       "      <td>With Its Way Of Life At Risk, This Remote Oyst...</td>\n",
       "      <td>1</td>\n",
       "      <td>{'neg': 0.091, 'neu': 0.909, 'pos': 0.0, 'comp...</td>\n",
       "      <td>-0.2732</td>\n",
       "      <td>-0.2732</td>\n",
       "    </tr>\n",
       "    <tr>\n",
       "      <th>1</th>\n",
       "      <td>POLITICS</td>\n",
       "      <td>Trump's Crackdown On Immigrant Parents Puts Mo...</td>\n",
       "      <td>Last month a Health and Human Services officia...</td>\n",
       "      <td>2018-05-26</td>\n",
       "      <td>Trump's Crackdown On Immigrant Parents Puts Mo...</td>\n",
       "      <td>1</td>\n",
       "      <td>{'neg': 0.07, 'neu': 0.93, 'pos': 0.0, 'compou...</td>\n",
       "      <td>-0.4019</td>\n",
       "      <td>-0.4019</td>\n",
       "    </tr>\n",
       "    <tr>\n",
       "      <th>2</th>\n",
       "      <td>POLITICS</td>\n",
       "      <td>'Trump's Son Should Be Concerned': FBI Obtaine...</td>\n",
       "      <td>The wiretaps feature conversations between Ale...</td>\n",
       "      <td>2018-05-26</td>\n",
       "      <td>'Trump's Son Should Be Concerned': FBI Obtaine...</td>\n",
       "      <td>1</td>\n",
       "      <td>{'neg': 0.0, 'neu': 1.0, 'pos': 0.0, 'compound...</td>\n",
       "      <td>0.0000</td>\n",
       "      <td>0.0000</td>\n",
       "    </tr>\n",
       "    <tr>\n",
       "      <th>3</th>\n",
       "      <td>POLITICS</td>\n",
       "      <td>Edward Snowden: There's No One Trump Loves Mor...</td>\n",
       "      <td>But don't count on Robert Mueller to nail him,...</td>\n",
       "      <td>2018-05-26</td>\n",
       "      <td>Edward Snowden: There's No One Trump Loves Mor...</td>\n",
       "      <td>1</td>\n",
       "      <td>{'neg': 0.127, 'neu': 0.742, 'pos': 0.131, 'co...</td>\n",
       "      <td>0.2732</td>\n",
       "      <td>0.2732</td>\n",
       "    </tr>\n",
       "    <tr>\n",
       "      <th>4</th>\n",
       "      <td>POLITICS</td>\n",
       "      <td>Booyah: Obama Photographer Hilariously Trolls ...</td>\n",
       "      <td>Just a peeping minute.</td>\n",
       "      <td>2018-05-26</td>\n",
       "      <td>Booyah: Obama Photographer Hilariously Trolls ...</td>\n",
       "      <td>1</td>\n",
       "      <td>{'neg': 0.0, 'neu': 1.0, 'pos': 0.0, 'compound...</td>\n",
       "      <td>0.0000</td>\n",
       "      <td>0.0000</td>\n",
       "    </tr>\n",
       "  </tbody>\n",
       "</table>\n",
       "</div>"
      ],
      "text/plain": [
       "   category                                           headline  \\\n",
       "0    IMPACT  With Its Way Of Life At Risk, This Remote Oyst...   \n",
       "1  POLITICS  Trump's Crackdown On Immigrant Parents Puts Mo...   \n",
       "2  POLITICS  'Trump's Son Should Be Concerned': FBI Obtaine...   \n",
       "3  POLITICS  Edward Snowden: There's No One Trump Loves Mor...   \n",
       "4  POLITICS  Booyah: Obama Photographer Hilariously Trolls ...   \n",
       "\n",
       "                                   short_description        date  \\\n",
       "0   The revolution is coming to rural New Brunswick.  2018-05-26   \n",
       "1  Last month a Health and Human Services officia...  2018-05-26   \n",
       "2  The wiretaps feature conversations between Ale...  2018-05-26   \n",
       "3  But don't count on Robert Mueller to nail him,...  2018-05-26   \n",
       "4                             Just a peeping minute.  2018-05-26   \n",
       "\n",
       "                                                comb  label  \\\n",
       "0  With Its Way Of Life At Risk, This Remote Oyst...      1   \n",
       "1  Trump's Crackdown On Immigrant Parents Puts Mo...      1   \n",
       "2  'Trump's Son Should Be Concerned': FBI Obtaine...      1   \n",
       "3  Edward Snowden: There's No One Trump Loves Mor...      1   \n",
       "4  Booyah: Obama Photographer Hilariously Trolls ...      1   \n",
       "\n",
       "                                            polarity   score  final_score  \n",
       "0  {'neg': 0.091, 'neu': 0.909, 'pos': 0.0, 'comp... -0.2732      -0.2732  \n",
       "1  {'neg': 0.07, 'neu': 0.93, 'pos': 0.0, 'compou... -0.4019      -0.4019  \n",
       "2  {'neg': 0.0, 'neu': 1.0, 'pos': 0.0, 'compound...  0.0000       0.0000  \n",
       "3  {'neg': 0.127, 'neu': 0.742, 'pos': 0.131, 'co...  0.2732       0.2732  \n",
       "4  {'neg': 0.0, 'neu': 1.0, 'pos': 0.0, 'compound...  0.0000       0.0000  "
      ]
     },
     "execution_count": 22,
     "metadata": {},
     "output_type": "execute_result"
    }
   ],
   "source": [
    "news_df_opt.head()"
   ]
  },
  {
   "cell_type": "code",
   "execution_count": 23,
   "id": "046c6d78",
   "metadata": {
    "execution": {
     "iopub.execute_input": "2021-08-06T22:08:16.840372Z",
     "iopub.status.busy": "2021-08-06T22:08:16.839435Z",
     "iopub.status.idle": "2021-08-06T22:08:16.842206Z",
     "shell.execute_reply": "2021-08-06T22:08:16.842713Z",
     "shell.execute_reply.started": "2021-08-06T21:51:04.634900Z"
    },
    "papermill": {
     "duration": 0.057859,
     "end_time": "2021-08-06T22:08:16.842890",
     "exception": false,
     "start_time": "2021-08-06T22:08:16.785031",
     "status": "completed"
    },
    "tags": []
   },
   "outputs": [],
   "source": [
    "stock_df = stock_df[stock_df.index > \"2014-05-05\"]"
   ]
  },
  {
   "cell_type": "code",
   "execution_count": 24,
   "id": "7bb833a9",
   "metadata": {
    "execution": {
     "iopub.execute_input": "2021-08-06T22:08:16.947675Z",
     "iopub.status.busy": "2021-08-06T22:08:16.947025Z",
     "iopub.status.idle": "2021-08-06T22:08:17.127653Z",
     "shell.execute_reply": "2021-08-06T22:08:17.127121Z",
     "shell.execute_reply.started": "2021-08-06T21:51:04.642270Z"
    },
    "papermill": {
     "duration": 0.235509,
     "end_time": "2021-08-06T22:08:17.127787",
     "exception": false,
     "start_time": "2021-08-06T22:08:16.892278",
     "status": "completed"
    },
    "tags": []
   },
   "outputs": [
    {
     "data": {
      "text/plain": [
       "<AxesSubplot:xlabel='Date'>"
      ]
     },
     "execution_count": 24,
     "metadata": {},
     "output_type": "execute_result"
    },
    {
     "data": {
      "image/png": "[encoded data removed]",
      "text/plain": [
       "<Figure size 504x360 with 1 Axes>"
      ]
     },
     "metadata": {
      "needs_background": "light"
     },
     "output_type": "display_data"
    }
   ],
   "source": [
    "plt.figure(figsize=(7,5))\n",
    "stock_df[\"Open\"].plot()\n"
   ]
  },
  {
   "cell_type": "code",
   "execution_count": 25,
   "id": "0d8ba89e",
   "metadata": {
    "execution": {
     "iopub.execute_input": "2021-08-06T22:08:17.261125Z",
     "iopub.status.busy": "2021-08-06T22:08:17.253711Z",
     "iopub.status.idle": "2021-08-06T22:08:17.393479Z",
     "shell.execute_reply": "2021-08-06T22:08:17.393939Z",
     "shell.execute_reply.started": "2021-08-06T21:51:04.829895Z"
    },
    "papermill": {
     "duration": 0.215324,
     "end_time": "2021-08-06T22:08:17.394161",
     "exception": false,
     "start_time": "2021-08-06T22:08:17.178837",
     "status": "completed"
    },
    "tags": []
   },
   "outputs": [
    {
     "data": {
      "text/plain": [
       "<AxesSubplot:xlabel='Date'>"
      ]
     },
     "execution_count": 25,
     "metadata": {},
     "output_type": "execute_result"
    },
    {
     "data": {
      "image/png": "[encoded data removed]",
      "text/plain": [
       "<Figure size 504x360 with 1 Axes>"
      ]
     },
     "metadata": {
      "needs_background": "light"
     },
     "output_type": "display_data"
    }
   ],
   "source": [
    "stock_df[\"Volume\"].plot(figsize=(7,5))"
   ]
  },
  {
   "cell_type": "code",
   "execution_count": 26,
   "id": "542edc05",
   "metadata": {
    "execution": {
     "iopub.execute_input": "2021-08-06T22:08:17.504947Z",
     "iopub.status.busy": "2021-08-06T22:08:17.504329Z",
     "iopub.status.idle": "2021-08-06T22:08:17.506931Z",
     "shell.execute_reply": "2021-08-06T22:08:17.507512Z",
     "shell.execute_reply.started": "2021-08-06T21:51:05.014422Z"
    },
    "papermill": {
     "duration": 0.06045,
     "end_time": "2021-08-06T22:08:17.507672",
     "exception": false,
     "start_time": "2021-08-06T22:08:17.447222",
     "status": "completed"
    },
    "tags": []
   },
   "outputs": [
    {
     "data": {
      "text/plain": [
       "545"
      ]
     },
     "execution_count": 26,
     "metadata": {},
     "output_type": "execute_result"
    }
   ],
   "source": [
    "len(stock_df)"
   ]
  },
  {
   "cell_type": "code",
   "execution_count": 27,
   "id": "e33ee309",
   "metadata": {
    "execution": {
     "iopub.execute_input": "2021-08-06T22:08:17.628129Z",
     "iopub.status.busy": "2021-08-06T22:08:17.627235Z",
     "iopub.status.idle": "2021-08-06T22:08:17.631606Z",
     "shell.execute_reply": "2021-08-06T22:08:17.630979Z",
     "shell.execute_reply.started": "2021-08-06T21:51:05.022082Z"
    },
    "papermill": {
     "duration": 0.070115,
     "end_time": "2021-08-06T22:08:17.631739",
     "exception": false,
     "start_time": "2021-08-06T22:08:17.561624",
     "status": "completed"
    },
    "tags": []
   },
   "outputs": [
    {
     "data": {
      "text/html": [
       "<div>\n",
       "<style scoped>\n",
       "    .dataframe tbody tr th:only-of-type {\n",
       "        vertical-align: middle;\n",
       "    }\n",
       "\n",
       "    .dataframe tbody tr th {\n",
       "        vertical-align: top;\n",
       "    }\n",
       "\n",
       "    .dataframe thead th {\n",
       "        text-align: right;\n",
       "    }\n",
       "</style>\n",
       "<table border=\"1\" class=\"dataframe\">\n",
       "  <thead>\n",
       "    <tr style=\"text-align: right;\">\n",
       "      <th></th>\n",
       "      <th>Open</th>\n",
       "      <th>High</th>\n",
       "      <th>Low</th>\n",
       "      <th>Close</th>\n",
       "      <th>Volume</th>\n",
       "      <th>Adj Close</th>\n",
       "    </tr>\n",
       "    <tr>\n",
       "      <th>Date</th>\n",
       "      <th></th>\n",
       "      <th></th>\n",
       "      <th></th>\n",
       "      <th></th>\n",
       "      <th></th>\n",
       "      <th></th>\n",
       "    </tr>\n",
       "  </thead>\n",
       "  <tbody>\n",
       "    <tr>\n",
       "      <th>2014-05-06</th>\n",
       "      <td>16529.849609</td>\n",
       "      <td>16529.849609</td>\n",
       "      <td>16399.990234</td>\n",
       "      <td>16401.019531</td>\n",
       "      <td>74340000</td>\n",
       "      <td>16401.019531</td>\n",
       "    </tr>\n",
       "    <tr>\n",
       "      <th>2014-05-07</th>\n",
       "      <td>16401.660156</td>\n",
       "      <td>16522.939453</td>\n",
       "      <td>16357.349609</td>\n",
       "      <td>16518.539062</td>\n",
       "      <td>93870000</td>\n",
       "      <td>16518.539062</td>\n",
       "    </tr>\n",
       "    <tr>\n",
       "      <th>2014-05-08</th>\n",
       "      <td>16518.160156</td>\n",
       "      <td>16622.949219</td>\n",
       "      <td>16502.009766</td>\n",
       "      <td>16550.970703</td>\n",
       "      <td>75620000</td>\n",
       "      <td>16550.970703</td>\n",
       "    </tr>\n",
       "    <tr>\n",
       "      <th>2014-05-09</th>\n",
       "      <td>16551.230469</td>\n",
       "      <td>16588.769531</td>\n",
       "      <td>16498.710938</td>\n",
       "      <td>16583.339844</td>\n",
       "      <td>74980000</td>\n",
       "      <td>16583.339844</td>\n",
       "    </tr>\n",
       "    <tr>\n",
       "      <th>2014-05-12</th>\n",
       "      <td>16584.820312</td>\n",
       "      <td>16704.839844</td>\n",
       "      <td>16584.820312</td>\n",
       "      <td>16695.470703</td>\n",
       "      <td>71550000</td>\n",
       "      <td>16695.470703</td>\n",
       "    </tr>\n",
       "  </tbody>\n",
       "</table>\n",
       "</div>"
      ],
      "text/plain": [
       "                    Open          High           Low         Close    Volume  \\\n",
       "Date                                                                           \n",
       "2014-05-06  16529.849609  16529.849609  16399.990234  16401.019531  74340000   \n",
       "2014-05-07  16401.660156  16522.939453  16357.349609  16518.539062  93870000   \n",
       "2014-05-08  16518.160156  16622.949219  16502.009766  16550.970703  75620000   \n",
       "2014-05-09  16551.230469  16588.769531  16498.710938  16583.339844  74980000   \n",
       "2014-05-12  16584.820312  16704.839844  16584.820312  16695.470703  71550000   \n",
       "\n",
       "               Adj Close  \n",
       "Date                      \n",
       "2014-05-06  16401.019531  \n",
       "2014-05-07  16518.539062  \n",
       "2014-05-08  16550.970703  \n",
       "2014-05-09  16583.339844  \n",
       "2014-05-12  16695.470703  "
      ]
     },
     "execution_count": 27,
     "metadata": {},
     "output_type": "execute_result"
    }
   ],
   "source": [
    "stock_df.head()"
   ]
  },
  {
   "cell_type": "code",
   "execution_count": 28,
   "id": "8caddc09",
   "metadata": {
    "execution": {
     "iopub.execute_input": "2021-08-06T22:08:17.745700Z",
     "iopub.status.busy": "2021-08-06T22:08:17.744674Z",
     "iopub.status.idle": "2021-08-06T22:08:17.777248Z",
     "shell.execute_reply": "2021-08-06T22:08:17.776576Z",
     "shell.execute_reply.started": "2021-08-06T21:51:05.041362Z"
    },
    "papermill": {
     "duration": 0.091766,
     "end_time": "2021-08-06T22:08:17.777395",
     "exception": false,
     "start_time": "2021-08-06T22:08:17.685629",
     "status": "completed"
    },
    "tags": []
   },
   "outputs": [],
   "source": [
    "opt = news_df_opt[[\"date\",\"final_score\"]].groupby(\"date\").mean()\n",
    "opt[\"Close\"]=''\n",
    "opt[\"Open\"]=''"
   ]
  },
  {
   "cell_type": "code",
   "execution_count": 29,
   "id": "5b5a836a",
   "metadata": {
    "execution": {
     "iopub.execute_input": "2021-08-06T22:08:17.896481Z",
     "iopub.status.busy": "2021-08-06T22:08:17.895849Z",
     "iopub.status.idle": "2021-08-06T22:08:17.901675Z",
     "shell.execute_reply": "2021-08-06T22:08:17.901021Z",
     "shell.execute_reply.started": "2021-08-06T21:51:05.081793Z"
    },
    "papermill": {
     "duration": 0.069693,
     "end_time": "2021-08-06T22:08:17.901808",
     "exception": false,
     "start_time": "2021-08-06T22:08:17.832115",
     "status": "completed"
    },
    "tags": []
   },
   "outputs": [
    {
     "data": {
      "text/html": [
       "<div>\n",
       "<style scoped>\n",
       "    .dataframe tbody tr th:only-of-type {\n",
       "        vertical-align: middle;\n",
       "    }\n",
       "\n",
       "    .dataframe tbody tr th {\n",
       "        vertical-align: top;\n",
       "    }\n",
       "\n",
       "    .dataframe thead th {\n",
       "        text-align: right;\n",
       "    }\n",
       "</style>\n",
       "<table border=\"1\" class=\"dataframe\">\n",
       "  <thead>\n",
       "    <tr style=\"text-align: right;\">\n",
       "      <th></th>\n",
       "      <th>final_score</th>\n",
       "      <th>Close</th>\n",
       "      <th>Open</th>\n",
       "    </tr>\n",
       "    <tr>\n",
       "      <th>date</th>\n",
       "      <th></th>\n",
       "      <th></th>\n",
       "      <th></th>\n",
       "    </tr>\n",
       "  </thead>\n",
       "  <tbody>\n",
       "    <tr>\n",
       "      <th>2014-05-06</th>\n",
       "      <td>0.047600</td>\n",
       "      <td></td>\n",
       "      <td></td>\n",
       "    </tr>\n",
       "    <tr>\n",
       "      <th>2014-05-07</th>\n",
       "      <td>0.212041</td>\n",
       "      <td></td>\n",
       "      <td></td>\n",
       "    </tr>\n",
       "    <tr>\n",
       "      <th>2014-05-08</th>\n",
       "      <td>0.024937</td>\n",
       "      <td></td>\n",
       "      <td></td>\n",
       "    </tr>\n",
       "    <tr>\n",
       "      <th>2014-05-09</th>\n",
       "      <td>0.210100</td>\n",
       "      <td></td>\n",
       "      <td></td>\n",
       "    </tr>\n",
       "    <tr>\n",
       "      <th>2014-05-10</th>\n",
       "      <td>0.058632</td>\n",
       "      <td></td>\n",
       "      <td></td>\n",
       "    </tr>\n",
       "  </tbody>\n",
       "</table>\n",
       "</div>"
      ],
      "text/plain": [
       "            final_score Close Open\n",
       "date                              \n",
       "2014-05-06     0.047600           \n",
       "2014-05-07     0.212041           \n",
       "2014-05-08     0.024937           \n",
       "2014-05-09     0.210100           \n",
       "2014-05-10     0.058632           "
      ]
     },
     "execution_count": 29,
     "metadata": {},
     "output_type": "execute_result"
    }
   ],
   "source": [
    "opt.head()"
   ]
  },
  {
   "cell_type": "code",
   "execution_count": 30,
   "id": "fb74cb74",
   "metadata": {
    "execution": {
     "iopub.execute_input": "2021-08-06T22:08:18.252550Z",
     "iopub.status.busy": "2021-08-06T22:08:18.017462Z",
     "iopub.status.idle": "2021-08-06T22:08:19.281936Z",
     "shell.execute_reply": "2021-08-06T22:08:19.281296Z",
     "shell.execute_reply.started": "2021-08-06T21:51:05.094101Z"
    },
    "papermill": {
     "duration": 1.324372,
     "end_time": "2021-08-06T22:08:19.282091",
     "exception": false,
     "start_time": "2021-08-06T22:08:17.957719",
     "status": "completed"
    },
    "tags": []
   },
   "outputs": [
    {
     "name": "stderr",
     "output_type": "stream",
     "text": [
      "/opt/conda/lib/python3.7/site-packages/ipykernel_launcher.py:3: SettingWithCopyWarning: \n",
      "A value is trying to be set on a copy of a slice from a DataFrame\n",
      "\n",
      "See the caveats in the documentation: https://pandas.pydata.org/pandas-docs/stable/user_guide/indexing.html#returning-a-view-versus-a-copy\n",
      "  This is separate from the ipykernel package so we can avoid doing imports until\n",
      "/opt/conda/lib/python3.7/site-packages/ipykernel_launcher.py:4: SettingWithCopyWarning: \n",
      "A value is trying to be set on a copy of a slice from a DataFrame\n",
      "\n",
      "See the caveats in the documentation: https://pandas.pydata.org/pandas-docs/stable/user_guide/indexing.html#returning-a-view-versus-a-copy\n",
      "  after removing the cwd from sys.path.\n"
     ]
    }
   ],
   "source": [
    "for i, ob in opt.iterrows():\n",
    "    if i in stock_df.index:\n",
    "        opt[\"Close\"][i] = stock_df[stock_df.index == i][\"Close\"][0]\n",
    "        opt[\"Open\"][i] = stock_df[stock_df.index == i][\"Open\"][0]"
   ]
  },
  {
   "cell_type": "code",
   "execution_count": 31,
   "id": "81a736f7",
   "metadata": {
    "execution": {
     "iopub.execute_input": "2021-08-06T22:08:19.396696Z",
     "iopub.status.busy": "2021-08-06T22:08:19.395740Z",
     "iopub.status.idle": "2021-08-06T22:08:19.398811Z",
     "shell.execute_reply": "2021-08-06T22:08:19.398317Z",
     "shell.execute_reply.started": "2021-08-06T21:51:06.316730Z"
    },
    "papermill": {
     "duration": 0.062183,
     "end_time": "2021-08-06T22:08:19.398950",
     "exception": false,
     "start_time": "2021-08-06T22:08:19.336767",
     "status": "completed"
    },
    "tags": []
   },
   "outputs": [],
   "source": [
    "#removing first day's data since we are working on next day's prediction\n",
    "#next_day_open.pop(0)\n",
    "#next_day_open.append('')"
   ]
  },
  {
   "cell_type": "code",
   "execution_count": 32,
   "id": "6b04bd4c",
   "metadata": {
    "execution": {
     "iopub.execute_input": "2021-08-06T22:08:19.518108Z",
     "iopub.status.busy": "2021-08-06T22:08:19.517108Z",
     "iopub.status.idle": "2021-08-06T22:08:19.520398Z",
     "shell.execute_reply": "2021-08-06T22:08:19.519776Z",
     "shell.execute_reply.started": "2021-08-06T21:51:06.321602Z"
    },
    "papermill": {
     "duration": 0.067274,
     "end_time": "2021-08-06T22:08:19.520536",
     "exception": false,
     "start_time": "2021-08-06T22:08:19.453262",
     "status": "completed"
    },
    "tags": []
   },
   "outputs": [],
   "source": [
    "df = opt[opt[\"Open\"]!= '']"
   ]
  },
  {
   "cell_type": "code",
   "execution_count": 33,
   "id": "affb003d",
   "metadata": {
    "execution": {
     "iopub.execute_input": "2021-08-06T22:08:19.633129Z",
     "iopub.status.busy": "2021-08-06T22:08:19.632477Z",
     "iopub.status.idle": "2021-08-06T22:08:19.635245Z",
     "shell.execute_reply": "2021-08-06T22:08:19.634754Z",
     "shell.execute_reply.started": "2021-08-06T21:51:06.339779Z"
    },
    "papermill": {
     "duration": 0.060553,
     "end_time": "2021-08-06T22:08:19.635382",
     "exception": false,
     "start_time": "2021-08-06T22:08:19.574829",
     "status": "completed"
    },
    "tags": []
   },
   "outputs": [],
   "source": [
    "#df[\"Open\"] = Open\n",
    "#df = df[df[\"Open\"]!= '']"
   ]
  },
  {
   "cell_type": "code",
   "execution_count": 34,
   "id": "8e9a0232",
   "metadata": {
    "execution": {
     "iopub.execute_input": "2021-08-06T22:08:19.754674Z",
     "iopub.status.busy": "2021-08-06T22:08:19.753755Z",
     "iopub.status.idle": "2021-08-06T22:08:19.758316Z",
     "shell.execute_reply": "2021-08-06T22:08:19.757697Z",
     "shell.execute_reply.started": "2021-08-06T21:51:06.350726Z"
    },
    "papermill": {
     "duration": 0.068731,
     "end_time": "2021-08-06T22:08:19.758456",
     "exception": false,
     "start_time": "2021-08-06T22:08:19.689725",
     "status": "completed"
    },
    "tags": []
   },
   "outputs": [
    {
     "data": {
      "text/html": [
       "<div>\n",
       "<style scoped>\n",
       "    .dataframe tbody tr th:only-of-type {\n",
       "        vertical-align: middle;\n",
       "    }\n",
       "\n",
       "    .dataframe tbody tr th {\n",
       "        vertical-align: top;\n",
       "    }\n",
       "\n",
       "    .dataframe thead th {\n",
       "        text-align: right;\n",
       "    }\n",
       "</style>\n",
       "<table border=\"1\" class=\"dataframe\">\n",
       "  <thead>\n",
       "    <tr style=\"text-align: right;\">\n",
       "      <th></th>\n",
       "      <th>final_score</th>\n",
       "      <th>Close</th>\n",
       "      <th>Open</th>\n",
       "    </tr>\n",
       "    <tr>\n",
       "      <th>date</th>\n",
       "      <th></th>\n",
       "      <th></th>\n",
       "      <th></th>\n",
       "    </tr>\n",
       "  </thead>\n",
       "  <tbody>\n",
       "    <tr>\n",
       "      <th>2014-05-06</th>\n",
       "      <td>0.047600</td>\n",
       "      <td>16401.019531</td>\n",
       "      <td>16529.849609</td>\n",
       "    </tr>\n",
       "    <tr>\n",
       "      <th>2014-05-07</th>\n",
       "      <td>0.212041</td>\n",
       "      <td>16518.539062</td>\n",
       "      <td>16401.660156</td>\n",
       "    </tr>\n",
       "    <tr>\n",
       "      <th>2014-05-08</th>\n",
       "      <td>0.024937</td>\n",
       "      <td>16550.970703</td>\n",
       "      <td>16518.160156</td>\n",
       "    </tr>\n",
       "    <tr>\n",
       "      <th>2014-05-09</th>\n",
       "      <td>0.210100</td>\n",
       "      <td>16583.339844</td>\n",
       "      <td>16551.230469</td>\n",
       "    </tr>\n",
       "    <tr>\n",
       "      <th>2014-05-12</th>\n",
       "      <td>-0.124447</td>\n",
       "      <td>16695.470703</td>\n",
       "      <td>16584.820312</td>\n",
       "    </tr>\n",
       "  </tbody>\n",
       "</table>\n",
       "</div>"
      ],
      "text/plain": [
       "            final_score         Close          Open\n",
       "date                                               \n",
       "2014-05-06     0.047600  16401.019531  16529.849609\n",
       "2014-05-07     0.212041  16518.539062  16401.660156\n",
       "2014-05-08     0.024937  16550.970703  16518.160156\n",
       "2014-05-09     0.210100  16583.339844  16551.230469\n",
       "2014-05-12    -0.124447  16695.470703  16584.820312"
      ]
     },
     "execution_count": 34,
     "metadata": {},
     "output_type": "execute_result"
    }
   ],
   "source": [
    "df.head()"
   ]
  },
  {
   "cell_type": "markdown",
   "id": "fa4b2f7f",
   "metadata": {
    "papermill": {
     "duration": 0.054925,
     "end_time": "2021-08-06T22:08:19.869220",
     "exception": false,
     "start_time": "2021-08-06T22:08:19.814295",
     "status": "completed"
    },
    "tags": []
   },
   "source": [
    "Process testing and training data"
   ]
  },
  {
   "cell_type": "code",
   "execution_count": 35,
   "id": "77862440",
   "metadata": {
    "execution": {
     "iopub.execute_input": "2021-08-06T22:08:19.984607Z",
     "iopub.status.busy": "2021-08-06T22:08:19.983924Z",
     "iopub.status.idle": "2021-08-06T22:08:19.986538Z",
     "shell.execute_reply": "2021-08-06T22:08:19.985883Z",
     "shell.execute_reply.started": "2021-08-06T21:51:06.370022Z"
    },
    "papermill": {
     "duration": 0.062404,
     "end_time": "2021-08-06T22:08:19.986683",
     "exception": false,
     "start_time": "2021-08-06T22:08:19.924279",
     "status": "completed"
    },
    "tags": []
   },
   "outputs": [],
   "source": [
    "train = int(0.8*len(df))\n",
    "train_df = df.iloc[:train]\n",
    "test_df = df.iloc[train:]"
   ]
  },
  {
   "cell_type": "code",
   "execution_count": 36,
   "id": "455bccd4",
   "metadata": {
    "execution": {
     "iopub.execute_input": "2021-08-06T22:08:20.104467Z",
     "iopub.status.busy": "2021-08-06T22:08:20.103772Z",
     "iopub.status.idle": "2021-08-06T22:08:20.108801Z",
     "shell.execute_reply": "2021-08-06T22:08:20.108015Z",
     "shell.execute_reply.started": "2021-08-06T21:51:06.380975Z"
    },
    "papermill": {
     "duration": 0.067227,
     "end_time": "2021-08-06T22:08:20.108949",
     "exception": false,
     "start_time": "2021-08-06T22:08:20.041722",
     "status": "completed"
    },
    "tags": []
   },
   "outputs": [],
   "source": [
    "x_train = train_df.drop([\"Open\"], axis =1)\n",
    "y_train = train_df[\"Open\"]\n",
    "\n",
    "x_test = test_df.drop([\"Open\"], axis =1)\n",
    "y_test = test_df[\"Open\"]"
   ]
  },
  {
   "cell_type": "code",
   "execution_count": 37,
   "id": "f89fff81",
   "metadata": {
    "execution": {
     "iopub.execute_input": "2021-08-06T22:08:20.227491Z",
     "iopub.status.busy": "2021-08-06T22:08:20.226456Z",
     "iopub.status.idle": "2021-08-06T22:08:20.232327Z",
     "shell.execute_reply": "2021-08-06T22:08:20.232838Z",
     "shell.execute_reply.started": "2021-08-06T21:51:06.394119Z"
    },
    "papermill": {
     "duration": 0.068667,
     "end_time": "2021-08-06T22:08:20.233007",
     "exception": false,
     "start_time": "2021-08-06T22:08:20.164340",
     "status": "completed"
    },
    "tags": []
   },
   "outputs": [
    {
     "data": {
      "text/plain": [
       "MinMaxScaler()"
      ]
     },
     "execution_count": 37,
     "metadata": {},
     "output_type": "execute_result"
    }
   ],
   "source": [
    "from sklearn.preprocessing import MinMaxScaler\n",
    "x_scaler = MinMaxScaler()\n",
    "x_scaler.fit(x_train)"
   ]
  },
  {
   "cell_type": "code",
   "execution_count": 38,
   "id": "111c6edc",
   "metadata": {
    "execution": {
     "iopub.execute_input": "2021-08-06T22:08:20.347887Z",
     "iopub.status.busy": "2021-08-06T22:08:20.347276Z",
     "iopub.status.idle": "2021-08-06T22:08:20.350473Z",
     "shell.execute_reply": "2021-08-06T22:08:20.349923Z",
     "shell.execute_reply.started": "2021-08-06T21:51:06.410359Z"
    },
    "papermill": {
     "duration": 0.062524,
     "end_time": "2021-08-06T22:08:20.350616",
     "exception": false,
     "start_time": "2021-08-06T22:08:20.288092",
     "status": "completed"
    },
    "tags": []
   },
   "outputs": [],
   "source": [
    "scaler = MinMaxScaler()"
   ]
  },
  {
   "cell_type": "code",
   "execution_count": 39,
   "id": "3fc3f3f6",
   "metadata": {
    "execution": {
     "iopub.execute_input": "2021-08-06T22:08:20.467868Z",
     "iopub.status.busy": "2021-08-06T22:08:20.466872Z",
     "iopub.status.idle": "2021-08-06T22:08:20.471944Z",
     "shell.execute_reply": "2021-08-06T22:08:20.471425Z",
     "shell.execute_reply.started": "2021-08-06T21:51:06.417529Z"
    },
    "papermill": {
     "duration": 0.066176,
     "end_time": "2021-08-06T22:08:20.472105",
     "exception": false,
     "start_time": "2021-08-06T22:08:20.405929",
     "status": "completed"
    },
    "tags": []
   },
   "outputs": [
    {
     "data": {
      "text/plain": [
       "MinMaxScaler()"
      ]
     },
     "execution_count": 39,
     "metadata": {},
     "output_type": "execute_result"
    }
   ],
   "source": [
    "scaler.fit(train_df)"
   ]
  },
  {
   "cell_type": "code",
   "execution_count": 40,
   "id": "791bc6f4",
   "metadata": {
    "execution": {
     "iopub.execute_input": "2021-08-06T22:08:20.591936Z",
     "iopub.status.busy": "2021-08-06T22:08:20.591303Z",
     "iopub.status.idle": "2021-08-06T22:08:20.593253Z",
     "shell.execute_reply": "2021-08-06T22:08:20.593731Z",
     "shell.execute_reply.started": "2021-08-06T22:00:28.506356Z"
    },
    "papermill": {
     "duration": 0.066374,
     "end_time": "2021-08-06T22:08:20.593901",
     "exception": false,
     "start_time": "2021-08-06T22:08:20.527527",
     "status": "completed"
    },
    "tags": []
   },
   "outputs": [],
   "source": [
    "train = scaler.transform(train_df)\n",
    "test = scaler.transform(test_df)"
   ]
  },
  {
   "cell_type": "code",
   "execution_count": 41,
   "id": "99786baa",
   "metadata": {
    "execution": {
     "iopub.execute_input": "2021-08-06T22:08:20.708619Z",
     "iopub.status.busy": "2021-08-06T22:08:20.707954Z",
     "iopub.status.idle": "2021-08-06T22:08:20.712334Z",
     "shell.execute_reply": "2021-08-06T22:08:20.712868Z",
     "shell.execute_reply.started": "2021-08-06T22:00:29.950680Z"
    },
    "papermill": {
     "duration": 0.062702,
     "end_time": "2021-08-06T22:08:20.713037",
     "exception": false,
     "start_time": "2021-08-06T22:08:20.650335",
     "status": "completed"
    },
    "tags": []
   },
   "outputs": [],
   "source": [
    "x_train = train[:,[0,1]]\n",
    "y_train = train[:,2] \n",
    "x_test = test[:,[0,1]]\n",
    "y_test = test[:,2] "
   ]
  },
  {
   "cell_type": "code",
   "execution_count": 42,
   "id": "49151032",
   "metadata": {
    "execution": {
     "iopub.execute_input": "2021-08-06T22:08:20.827721Z",
     "iopub.status.busy": "2021-08-06T22:08:20.827084Z",
     "iopub.status.idle": "2021-08-06T22:08:20.830167Z",
     "shell.execute_reply": "2021-08-06T22:08:20.830704Z"
    },
    "papermill": {
     "duration": 0.062058,
     "end_time": "2021-08-06T22:08:20.830869",
     "exception": false,
     "start_time": "2021-08-06T22:08:20.768811",
     "status": "completed"
    },
    "tags": []
   },
   "outputs": [],
   "source": [
    "#x_train = x_scaler.transform(x_train)\n",
    "#x_test = x_scaler.transform(x_test)"
   ]
  },
  {
   "cell_type": "code",
   "execution_count": 43,
   "id": "53869265",
   "metadata": {
    "execution": {
     "iopub.execute_input": "2021-08-06T22:08:20.944855Z",
     "iopub.status.busy": "2021-08-06T22:08:20.944221Z",
     "iopub.status.idle": "2021-08-06T22:08:26.601739Z",
     "shell.execute_reply": "2021-08-06T22:08:26.601123Z",
     "shell.execute_reply.started": "2021-08-06T22:00:32.731543Z"
    },
    "papermill": {
     "duration": 5.715379,
     "end_time": "2021-08-06T22:08:26.601907",
     "exception": false,
     "start_time": "2021-08-06T22:08:20.886528",
     "status": "completed"
    },
    "tags": []
   },
   "outputs": [],
   "source": [
    "from tensorflow.keras.preprocessing.sequence import TimeseriesGenerator\n",
    "\n",
    "from tensorflow.keras.models import Sequential\n",
    "from tensorflow.keras.layers import Dense, LSTM"
   ]
  },
  {
   "cell_type": "code",
   "execution_count": 44,
   "id": "e97fde02",
   "metadata": {
    "execution": {
     "iopub.execute_input": "2021-08-06T22:08:26.722580Z",
     "iopub.status.busy": "2021-08-06T22:08:26.721607Z",
     "iopub.status.idle": "2021-08-06T22:08:26.724788Z",
     "shell.execute_reply": "2021-08-06T22:08:26.724279Z",
     "shell.execute_reply.started": "2021-08-06T22:00:38.326279Z"
    },
    "papermill": {
     "duration": 0.064531,
     "end_time": "2021-08-06T22:08:26.724943",
     "exception": false,
     "start_time": "2021-08-06T22:08:26.660412",
     "status": "completed"
    },
    "tags": []
   },
   "outputs": [],
   "source": [
    "# We're only using one feature in our time series\n",
    "n_features = 2\n",
    "batch_size = 2"
   ]
  },
  {
   "cell_type": "code",
   "execution_count": 45,
   "id": "45ff4ebb",
   "metadata": {
    "execution": {
     "iopub.execute_input": "2021-08-06T22:08:26.843003Z",
     "iopub.status.busy": "2021-08-06T22:08:26.842373Z",
     "iopub.status.idle": "2021-08-06T22:08:26.844438Z",
     "shell.execute_reply": "2021-08-06T22:08:26.844888Z",
     "shell.execute_reply.started": "2021-08-06T22:00:43.308326Z"
    },
    "papermill": {
     "duration": 0.063589,
     "end_time": "2021-08-06T22:08:26.845098",
     "exception": false,
     "start_time": "2021-08-06T22:08:26.781509",
     "status": "completed"
    },
    "tags": []
   },
   "outputs": [],
   "source": [
    "length = 10 #10 business days\n",
    "generator = TimeseriesGenerator(x_train, y_train, length=length, batch_size=batch_size)"
   ]
  },
  {
   "cell_type": "code",
   "execution_count": 46,
   "id": "94a6768a",
   "metadata": {
    "execution": {
     "iopub.execute_input": "2021-08-06T22:08:26.960874Z",
     "iopub.status.busy": "2021-08-06T22:08:26.960253Z",
     "iopub.status.idle": "2021-08-06T22:08:27.211615Z",
     "shell.execute_reply": "2021-08-06T22:08:27.211092Z",
     "shell.execute_reply.started": "2021-08-06T22:00:45.454670Z"
    },
    "papermill": {
     "duration": 0.31001,
     "end_time": "2021-08-06T22:08:27.211759",
     "exception": false,
     "start_time": "2021-08-06T22:08:26.901749",
     "status": "completed"
    },
    "tags": []
   },
   "outputs": [],
   "source": [
    "model = Sequential()\n",
    "model.add(LSTM(100, activation='relu', input_shape=(length, n_features)))\n",
    "model.add(Dense(1))\n",
    "model.compile(optimizer='adam', loss='mse')"
   ]
  },
  {
   "cell_type": "code",
   "execution_count": 47,
   "id": "5976b323",
   "metadata": {
    "execution": {
     "iopub.execute_input": "2021-08-06T22:08:27.327322Z",
     "iopub.status.busy": "2021-08-06T22:08:27.326624Z",
     "iopub.status.idle": "2021-08-06T22:08:27.328410Z",
     "shell.execute_reply": "2021-08-06T22:08:27.328839Z",
     "shell.execute_reply.started": "2021-08-06T22:00:47.733938Z"
    },
    "papermill": {
     "duration": 0.061558,
     "end_time": "2021-08-06T22:08:27.329016",
     "exception": false,
     "start_time": "2021-08-06T22:08:27.267458",
     "status": "completed"
    },
    "tags": []
   },
   "outputs": [],
   "source": [
    "from tensorflow.keras.callbacks import EarlyStopping"
   ]
  },
  {
   "cell_type": "code",
   "execution_count": 48,
   "id": "ac9c10b8",
   "metadata": {
    "execution": {
     "iopub.execute_input": "2021-08-06T22:08:27.443879Z",
     "iopub.status.busy": "2021-08-06T22:08:27.443203Z",
     "iopub.status.idle": "2021-08-06T22:08:27.446839Z",
     "shell.execute_reply": "2021-08-06T22:08:27.447355Z",
     "shell.execute_reply.started": "2021-08-06T22:00:49.731058Z"
    },
    "papermill": {
     "duration": 0.062183,
     "end_time": "2021-08-06T22:08:27.447527",
     "exception": false,
     "start_time": "2021-08-06T22:08:27.385344",
     "status": "completed"
    },
    "tags": []
   },
   "outputs": [],
   "source": [
    "early_stop = EarlyStopping(monitor='val_loss',patience=2)\n",
    "validation_generator = TimeseriesGenerator(x_test,y_test, length=length, batch_size=batch_size)"
   ]
  },
  {
   "cell_type": "code",
   "execution_count": 49,
   "id": "7df217e4",
   "metadata": {
    "execution": {
     "iopub.execute_input": "2021-08-06T22:08:27.565977Z",
     "iopub.status.busy": "2021-08-06T22:08:27.565350Z",
     "iopub.status.idle": "2021-08-06T22:08:47.620137Z",
     "shell.execute_reply": "2021-08-06T22:08:47.620587Z",
     "shell.execute_reply.started": "2021-08-06T22:00:52.050750Z"
    },
    "papermill": {
     "duration": 20.114539,
     "end_time": "2021-08-06T22:08:47.620763",
     "exception": false,
     "start_time": "2021-08-06T22:08:27.506224",
     "status": "completed"
    },
    "tags": []
   },
   "outputs": [
    {
     "name": "stderr",
     "output_type": "stream",
     "text": [
      "/opt/conda/lib/python3.7/site-packages/tensorflow/python/keras/engine/training.py:1844: UserWarning: `Model.fit_generator` is deprecated and will be removed in a future version. Please use `Model.fit`, which supports generators.\n",
      "  warnings.warn('`Model.fit_generator` is deprecated and '\n"
     ]
    },
    {
     "name": "stdout",
     "output_type": "stream",
     "text": [
      "Epoch 1/20\n",
      "213/213 [==============================] - 4s 11ms/step - loss: 0.0838 - val_loss: 0.0041\n",
      "Epoch 2/20\n",
      "213/213 [==============================] - 1s 6ms/step - loss: 0.0074 - val_loss: 0.0035\n",
      "Epoch 3/20\n",
      "213/213 [==============================] - 1s 6ms/step - loss: 0.0045 - val_loss: 0.0093\n",
      "Epoch 4/20\n",
      "213/213 [==============================] - 2s 7ms/step - loss: 0.0071 - val_loss: 0.0031\n",
      "Epoch 5/20\n",
      "213/213 [==============================] - 1s 6ms/step - loss: 0.0035 - val_loss: 0.0025\n",
      "Epoch 6/20\n",
      "213/213 [==============================] - 1s 6ms/step - loss: 0.0020 - val_loss: 0.0018\n",
      "Epoch 7/20\n",
      "213/213 [==============================] - 1s 6ms/step - loss: 0.0020 - val_loss: 0.0011\n",
      "Epoch 8/20\n",
      "213/213 [==============================] - 1s 6ms/step - loss: 0.0015 - val_loss: 8.7400e-04\n",
      "Epoch 9/20\n",
      "213/213 [==============================] - 1s 6ms/step - loss: 8.0546e-04 - val_loss: 6.7221e-04\n",
      "Epoch 10/20\n",
      "213/213 [==============================] - 1s 6ms/step - loss: 5.9987e-04 - val_loss: 3.7587e-04\n",
      "Epoch 11/20\n",
      "213/213 [==============================] - 1s 6ms/step - loss: 3.1830e-04 - val_loss: 1.7769e-04\n",
      "Epoch 12/20\n",
      "213/213 [==============================] - 1s 6ms/step - loss: 3.0194e-04 - val_loss: 2.2479e-04\n",
      "Epoch 13/20\n",
      "213/213 [==============================] - 1s 6ms/step - loss: 1.7416e-04 - val_loss: 4.1036e-04\n"
     ]
    },
    {
     "data": {
      "text/plain": [
       "<tensorflow.python.keras.callbacks.History at 0x7f366d3272d0>"
      ]
     },
     "execution_count": 49,
     "metadata": {},
     "output_type": "execute_result"
    }
   ],
   "source": [
    "model.fit_generator(generator,epochs=20,\n",
    "                    validation_data=validation_generator,\n",
    "                   callbacks=[early_stop])"
   ]
  },
  {
   "cell_type": "code",
   "execution_count": 50,
   "id": "e960ee3a",
   "metadata": {
    "execution": {
     "iopub.execute_input": "2021-08-06T22:08:47.934307Z",
     "iopub.status.busy": "2021-08-06T22:08:47.933620Z",
     "iopub.status.idle": "2021-08-06T22:08:48.131392Z",
     "shell.execute_reply": "2021-08-06T22:08:48.131842Z",
     "shell.execute_reply.started": "2021-08-06T22:01:11.990430Z"
    },
    "papermill": {
     "duration": 0.357863,
     "end_time": "2021-08-06T22:08:48.132013",
     "exception": false,
     "start_time": "2021-08-06T22:08:47.774150",
     "status": "completed"
    },
    "tags": []
   },
   "outputs": [
    {
     "data": {
      "text/plain": [
       "<AxesSubplot:>"
      ]
     },
     "execution_count": 50,
     "metadata": {},
     "output_type": "execute_result"
    },
    {
     "data": {
      "image/png": "[encoded data removed]",
      "text/plain": [
       "<Figure size 432x288 with 1 Axes>"
      ]
     },
     "metadata": {
      "needs_background": "light"
     },
     "output_type": "display_data"
    }
   ],
   "source": [
    "losses = pd.DataFrame(model.history.history)\n",
    "losses.plot()"
   ]
  },
  {
   "cell_type": "markdown",
   "id": "337958c2",
   "metadata": {
    "papermill": {
     "duration": 0.150245,
     "end_time": "2021-08-06T22:08:48.433029",
     "exception": false,
     "start_time": "2021-08-06T22:08:48.282784",
     "status": "completed"
    },
    "tags": []
   },
   "source": [
    "**Evaluation**"
   ]
  },
  {
   "cell_type": "code",
   "execution_count": 51,
   "id": "117d4844",
   "metadata": {
    "execution": {
     "iopub.execute_input": "2021-08-06T22:08:48.743212Z",
     "iopub.status.busy": "2021-08-06T22:08:48.742476Z",
     "iopub.status.idle": "2021-08-06T22:08:48.745583Z",
     "shell.execute_reply": "2021-08-06T22:08:48.744870Z",
     "shell.execute_reply.started": "2021-08-06T22:01:22.692886Z"
    },
    "papermill": {
     "duration": 0.160639,
     "end_time": "2021-08-06T22:08:48.745730",
     "exception": false,
     "start_time": "2021-08-06T22:08:48.585091",
     "status": "completed"
    },
    "tags": []
   },
   "outputs": [],
   "source": [
    "first_eval_batch = x_train[-length:]"
   ]
  },
  {
   "cell_type": "code",
   "execution_count": 52,
   "id": "65dd3f72",
   "metadata": {
    "execution": {
     "iopub.execute_input": "2021-08-06T22:08:49.054431Z",
     "iopub.status.busy": "2021-08-06T22:08:49.053719Z",
     "iopub.status.idle": "2021-08-06T22:08:49.056277Z",
     "shell.execute_reply": "2021-08-06T22:08:49.056776Z",
     "shell.execute_reply.started": "2021-08-06T22:01:25.824952Z"
    },
    "papermill": {
     "duration": 0.159396,
     "end_time": "2021-08-06T22:08:49.056956",
     "exception": false,
     "start_time": "2021-08-06T22:08:48.897560",
     "status": "completed"
    },
    "tags": []
   },
   "outputs": [],
   "source": [
    "first_eval_batch = first_eval_batch.reshape((1, length, n_features))"
   ]
  },
  {
   "cell_type": "code",
   "execution_count": 53,
   "id": "e380237b",
   "metadata": {
    "execution": {
     "iopub.execute_input": "2021-08-06T22:08:49.366756Z",
     "iopub.status.busy": "2021-08-06T22:08:49.365600Z",
     "iopub.status.idle": "2021-08-06T22:08:49.609735Z",
     "shell.execute_reply": "2021-08-06T22:08:49.609197Z",
     "shell.execute_reply.started": "2021-08-06T22:02:11.409720Z"
    },
    "papermill": {
     "duration": 0.400245,
     "end_time": "2021-08-06T22:08:49.609882",
     "exception": false,
     "start_time": "2021-08-06T22:08:49.209637",
     "status": "completed"
    },
    "tags": []
   },
   "outputs": [
    {
     "data": {
      "text/plain": [
       "array([[0.13301441]], dtype=float32)"
      ]
     },
     "execution_count": 53,
     "metadata": {},
     "output_type": "execute_result"
    }
   ],
   "source": [
    "model.predict(first_eval_batch)"
   ]
  },
  {
   "cell_type": "code",
   "execution_count": 54,
   "id": "e042432d",
   "metadata": {
    "execution": {
     "iopub.execute_input": "2021-08-06T22:08:49.921733Z",
     "iopub.status.busy": "2021-08-06T22:08:49.921052Z",
     "iopub.status.idle": "2021-08-06T22:08:49.923626Z",
     "shell.execute_reply": "2021-08-06T22:08:49.924120Z",
     "shell.execute_reply.started": "2021-08-06T22:02:32.229701Z"
    },
    "papermill": {
     "duration": 0.161086,
     "end_time": "2021-08-06T22:08:49.924287",
     "exception": false,
     "start_time": "2021-08-06T22:08:49.763201",
     "status": "completed"
    },
    "tags": []
   },
   "outputs": [
    {
     "data": {
      "text/plain": [
       "0.10763241736360651"
      ]
     },
     "execution_count": 54,
     "metadata": {},
     "output_type": "execute_result"
    }
   ],
   "source": [
    "y_test[0]"
   ]
  }
 ],
 "metadata": {
  "kernelspec": {
   "display_name": "Python 3",
   "language": "python",
   "name": "python3"
  },
  "language_info": {
   "codemirror_mode": {
    "name": "ipython",
    "version": 3
   },
   "file_extension": ".py",
   "mimetype": "text/x-python",
   "name": "python",
   "nbconvert_exporter": "python",
   "pygments_lexer": "ipython3",
   "version": "3.7.10"
  },
  "papermill": {
   "default_parameters": {},
   "duration": 97.905343,
   "end_time": "2021-08-06T22:08:52.669166",
   "environment_variables": {},
   "exception": null,
   "input_path": "__notebook__.ipynb",
   "output_path": "__notebook__.ipynb",
   "parameters": {},
   "start_time": "2021-08-06T22:07:14.763823",
   "version": "2.3.3"
  }
 },
 "nbformat": 4,
 "nbformat_minor": 5
}
